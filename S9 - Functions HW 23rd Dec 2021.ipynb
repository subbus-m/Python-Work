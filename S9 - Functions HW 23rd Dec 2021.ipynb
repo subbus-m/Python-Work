{
 "cells": [
  {
   "cell_type": "code",
   "execution_count": 11,
   "id": "93b0a960",
   "metadata": {},
   "outputs": [],
   "source": [
    "# Question 1\n",
    "# Function to find the length of the string without using Len function\n",
    "def lenOfStr(word):\n",
    "    '''This function will find the length of the string without using Len function'''\n",
    "    count = 0\n",
    "    if type(word) == str:\n",
    "        for i in word:\n",
    "            count = count + 1\n",
    "        else:\n",
    "            print('The length of the string passed in is ', count)\n",
    "    else:    \n",
    "        print('The passed in value is not string type')"
   ]
  },
  {
   "cell_type": "code",
   "execution_count": 13,
   "id": "dde801da",
   "metadata": {},
   "outputs": [
    {
     "name": "stdout",
     "output_type": "stream",
     "text": [
      "The length of the string passed in is  5\n"
     ]
    }
   ],
   "source": [
    "name = 'subramanyam'\n",
    "lenOfStr('subbu')"
   ]
  },
  {
   "cell_type": "code",
   "execution_count": 15,
   "id": "0774bf5e",
   "metadata": {},
   "outputs": [],
   "source": [
    "# Question 2\n",
    "# Function to find an index of a primitive data type\n",
    "def findIndex(a):\n",
    "    '''This function will find an index of a primitive data type'''\n",
    "    if type(a) == str or type(a) == list or type(a) == tuple:\n",
    "        for i in a:\n",
    "            print('The index of ', i, 'is ', a.index(i))\n",
    "    else:\n",
    "        print('The data type of the value passed does not support indexing')"
   ]
  },
  {
   "cell_type": "code",
   "execution_count": 18,
   "id": "95e81a1c",
   "metadata": {},
   "outputs": [
    {
     "name": "stdout",
     "output_type": "stream",
     "text": [
      "The index of  s is  0\n",
      "The index of  u is  1\n",
      "The index of  b is  2\n",
      "The index of  r is  3\n",
      "The index of  a is  4\n",
      "The index of  m is  5\n",
      "The index of  a is  4\n",
      "The index of  n is  7\n",
      "The index of  y is  8\n",
      "The index of  a is  4\n",
      "The index of  m is  5\n"
     ]
    }
   ],
   "source": [
    "findIndex('subramanyam')"
   ]
  },
  {
   "cell_type": "code",
   "execution_count": 20,
   "id": "21b66d51",
   "metadata": {},
   "outputs": [],
   "source": [
    "# Question 2\n",
    "# Function to find an index of a primitive data type with another approach\n",
    "def findIndexA(a):\n",
    "    '''This function will find an index of a primitve data type'''\n",
    "    count = 0\n",
    "    if type(a) == str or type(a) == list or type(a) == tuple:\n",
    "        for i in a:\n",
    "            print('The index of ', i, 'is ', count)\n",
    "            count = count + 1\n",
    "    else:\n",
    "        print('The data type of the value passed does not support indexing')"
   ]
  },
  {
   "cell_type": "code",
   "execution_count": 23,
   "id": "1c4ced9c",
   "metadata": {},
   "outputs": [
    {
     "name": "stdout",
     "output_type": "stream",
     "text": [
      "The index of  s is  0\n",
      "The index of  u is  1\n",
      "The index of  b is  2\n",
      "The index of  r is  3\n",
      "The index of  a is  4\n",
      "The index of  m is  5\n",
      "The index of  a is  6\n",
      "The index of  n is  7\n",
      "The index of  y is  8\n",
      "The index of  a is  9\n",
      "The index of  m is  10\n"
     ]
    }
   ],
   "source": [
    "findIndexA('subramanyam')"
   ]
  },
  {
   "cell_type": "markdown",
   "id": "7d27f8fb",
   "metadata": {},
   "source": [
    "I am not sure why String data type validation is not working. When I try type(word) == str, it is not considering word as a string even though I am passing a string in word. Not sure why this is happening. In both programs it is happening. I tried with isinstance() function as well which is failing for string data type. For the other data types, it is working.\n",
    "\n",
    "Initially the type(word) == str and data type str validations did not work in all three functions. Next day when I tried to execute, they worked correctly. Not sure what happened on the day before."
   ]
  },
  {
   "cell_type": "code",
   "execution_count": 32,
   "id": "9316c3c1",
   "metadata": {},
   "outputs": [],
   "source": [
    "# Question 3\n",
    "# Function to give List of the values from a dictionary till 2nd level dictionary i.e., dictionary as a value\n",
    "def valuesFromDict(d1):\n",
    "    '''This function will give list of values from a dictionary till 2nd level dictionary i.e., dictionary as a value'''\n",
    "    if type(d1) == dict:\n",
    "        l1 = []\n",
    "        l1 = list(d1.values())\n",
    "        for i in l1:\n",
    "            if type(i) == dict:\n",
    "                l2 = list(i.values())\n",
    "                indx1 = l1.index(i)\n",
    "                l1.pop(l1.index(i))\n",
    "                for j in l2:\n",
    "                    l1.insert(indx1, j)\n",
    "                    indx1+=1\n",
    "        return l1\n",
    "    else:\n",
    "        return 'The passed in value is not a dictionary'"
   ]
  },
  {
   "cell_type": "code",
   "execution_count": 33,
   "id": "f98c4768",
   "metadata": {},
   "outputs": [
    {
     "data": {
      "text/plain": [
       "['AP',\n",
       " 'Karnataka',\n",
       " 'Tamilnadu',\n",
       " 'US',\n",
       " 'canada',\n",
       " (23, 4, 6, 8),\n",
       " [43, 124, 54.3],\n",
       " [34, 5, 6, 'man']]"
      ]
     },
     "execution_count": 33,
     "metadata": {},
     "output_type": "execute_result"
    }
   ],
   "source": [
    "valuesFromDict({'ctry1': {'st1': 'AP', 'st2': 'Karnataka', 'st3': 'Tamilnadu'},'ctry2':'US','ctry3':'canada', 1:{'a':(23,4,6,8), 'b':[43,124,54.3]}, 5-6j: [34,5,6,'man']})"
   ]
  },
  {
   "cell_type": "code",
   "execution_count": 34,
   "id": "91bc278e",
   "metadata": {},
   "outputs": [
    {
     "data": {
      "text/plain": [
       "'The passed in value is not a dictionary'"
      ]
     },
     "execution_count": 34,
     "metadata": {},
     "output_type": "execute_result"
    }
   ],
   "source": [
    "valuesFromDict([1,2,4,3])"
   ]
  },
  {
   "cell_type": "code",
   "execution_count": 195,
   "id": "6d1bfd88",
   "metadata": {},
   "outputs": [],
   "source": [
    "# Question 4\n",
    "# Function called inside another function\n",
    "def fun1():\n",
    "    print('You are in main function now')\n",
    "    subFun()"
   ]
  },
  {
   "cell_type": "code",
   "execution_count": 185,
   "id": "b07cde30",
   "metadata": {},
   "outputs": [],
   "source": [
    "def subFun():\n",
    "    print('You are in sub function now')"
   ]
  },
  {
   "cell_type": "code",
   "execution_count": 186,
   "id": "1eb04eb5",
   "metadata": {},
   "outputs": [
    {
     "name": "stdout",
     "output_type": "stream",
     "text": [
      "You are in main function now\n",
      "You are in sub function now\n"
     ]
    }
   ],
   "source": [
    "fun1()"
   ]
  },
  {
   "cell_type": "code",
   "execution_count": 64,
   "id": "2441d597",
   "metadata": {},
   "outputs": [],
   "source": [
    "# Question 4\n",
    "# Function which will take another function as input\n",
    "#def calculator(a,b,fun:\n",
    "#    if oper == 'sum':\n",
    "#        sum(a,b)\n",
    "\n",
    "def add(a,b):\n",
    "    print( a+b)\n",
    "# *args means any number of arguments can be received by a function. The arguments can be given seperated by a comma\n",
    "# **kwargs means any number of arguments can be received but they should be passed as a1 = 1, a2 = 2, a3 = 3. In this \n",
    "# scenario, it will consider 1,2,3 as parameters.\n",
    "\n",
    "# In this program we have not used **kwargs, we have only declared it. When we pass as a1 = 1, a2 = 2 then they will be \n",
    "# considered as **parms\n",
    "def calc(function, *args, **kwargs):\n",
    "    '''This function will take another function as input and call the function'''\n",
    "    print('you are in main function')\n",
    "    function(*args, **kwargs)"
   ]
  },
  {
   "cell_type": "code",
   "execution_count": 65,
   "id": "644d42c8",
   "metadata": {},
   "outputs": [
    {
     "name": "stdout",
     "output_type": "stream",
     "text": [
      "you are in main function\n",
      "9\n"
     ]
    }
   ],
   "source": [
    "calc(add, 4,5)"
   ]
  },
  {
   "cell_type": "code",
   "execution_count": 41,
   "id": "23ad79d4",
   "metadata": {},
   "outputs": [],
   "source": [
    "# Question 4\n",
    "# Multiple functions (add,sub,mul) called inside another function calc1\n",
    "def add(a,b):\n",
    "    return a+b\n",
    "def sub(a,b):\n",
    "    return a-b\n",
    "def mul(a,b):\n",
    "    return a*b\n",
    "\n",
    "def calc1(func_to_run, a,b):     # Function name can be passed as parameter so that that particular function will be called\n",
    "    '''This function will take another function as input and call the respective function passed as parameter'''\n",
    "    return func_to_run(a,b)\n"
   ]
  },
  {
   "cell_type": "code",
   "execution_count": 42,
   "id": "d58c1804",
   "metadata": {},
   "outputs": [
    {
     "data": {
      "text/plain": [
       "110"
      ]
     },
     "execution_count": 42,
     "metadata": {},
     "output_type": "execute_result"
    }
   ],
   "source": [
    "calc1(add,100,10)"
   ]
  },
  {
   "cell_type": "code",
   "execution_count": 45,
   "id": "6ce018e9",
   "metadata": {},
   "outputs": [
    {
     "data": {
      "text/plain": [
       "-10"
      ]
     },
     "execution_count": 45,
     "metadata": {},
     "output_type": "execute_result"
    }
   ],
   "source": [
    "calc1(sub,20,30)"
   ]
  },
  {
   "cell_type": "code",
   "execution_count": 44,
   "id": "99a268e1",
   "metadata": {},
   "outputs": [
    {
     "data": {
      "text/plain": [
       "500"
      ]
     },
     "execution_count": 44,
     "metadata": {},
     "output_type": "execute_result"
    }
   ],
   "source": [
    "calc1(mul,50,10)"
   ]
  },
  {
   "cell_type": "code",
   "execution_count": 26,
   "id": "33f2bfba",
   "metadata": {},
   "outputs": [],
   "source": [
    "# Question 5\n",
    "# Function to take multiple lists as input and return singele list concatinating all the elements of the list\n",
    "def concList(*lists):\n",
    "    '''This function will take multiple lists as input and concatenate all the elements of the input lists and give another\n",
    "     list as output with all the elements concatenated'''\n",
    "    list1 = []\n",
    "    for i in lists:\n",
    "        for j in i:\n",
    "            list1.append(j)\n",
    "    return list1"
   ]
  },
  {
   "cell_type": "code",
   "execution_count": 27,
   "id": "5f4e4292",
   "metadata": {},
   "outputs": [
    {
     "data": {
      "text/plain": [
       "[1, 2, 3, 4, 9876, 45, 435, 'subbu', (5+6j), 32, 2341, 'sundar', 23]"
      ]
     },
     "execution_count": 27,
     "metadata": {},
     "output_type": "execute_result"
    }
   ],
   "source": [
    "concList([1,2,3,4], [9876,45,435,'subbu', 5+6j, 32],[2341,'sundar', 23])"
   ]
  },
  {
   "cell_type": "code",
   "execution_count": 24,
   "id": "11f2a694",
   "metadata": {},
   "outputs": [],
   "source": [
    "# Question 6\n",
    "# Function to print the index of the element of the list passed. Even though there is a duplicate, it should be able to \n",
    "# find the index. Question 2 is almost same as this. But we can try for a different approach for this.\n",
    "def indexOfListElement(l1,a):\n",
    "    '''This function will return the index of the element passed in from the list passed in. If the element is repeated\n",
    "    multiple times, function will print all the indexes of the element'''\n",
    "    match = False\n",
    "    for i in range(0,len(l1)):\n",
    "        if l1[i] == a:\n",
    "            print('The index of', a, 'is',i)\n",
    "            match = True\n",
    "    else:\n",
    "        if match == False:\n",
    "            print('The passed element is not found in List', l1)"
   ]
  },
  {
   "cell_type": "code",
   "execution_count": 25,
   "id": "f0416c01",
   "metadata": {},
   "outputs": [
    {
     "name": "stdout",
     "output_type": "stream",
     "text": [
      "The index of 43 is 0\n",
      "The index of 43 is 3\n",
      "The index of 43 is 6\n"
     ]
    }
   ],
   "source": [
    "indexOfListElement([43,12,6,43,45,82,43], 43)"
   ]
  },
  {
   "cell_type": "code",
   "execution_count": 37,
   "id": "6df9c170",
   "metadata": {},
   "outputs": [],
   "source": [
    "# Sample program to use OS utility in python.\n",
    "def cwd():\n",
    "    import os\n",
    "    return os.getcwd()"
   ]
  },
  {
   "cell_type": "code",
   "execution_count": 42,
   "id": "5567852f",
   "metadata": {},
   "outputs": [
    {
     "data": {
      "text/plain": [
       "'C:\\\\'"
      ]
     },
     "execution_count": 42,
     "metadata": {},
     "output_type": "execute_result"
    }
   ],
   "source": [
    "cwd()"
   ]
  },
  {
   "cell_type": "code",
   "execution_count": 57,
   "id": "08178dc1",
   "metadata": {},
   "outputs": [],
   "source": [
    "# Question 7\n",
    "# Function to return the list of the files present in the directory passed\n",
    "def listFiles(path):\n",
    "    '''This function will return the list of the files present in a directory passed'''\n",
    "    l1 = []\n",
    "    from os import listdir\n",
    "    from os.path import isfile, join\n",
    "    # listdir will retrieve all the files and directories in the path\n",
    "    for f in listdir(path):\n",
    "        # isfile will check whether 'f' retrieved using listdir is a file or directory, if it is file append to l1 List\n",
    "        if isfile(join(path, f)):\n",
    "            l1.append(f)\n",
    "    else:\n",
    "        return l1"
   ]
  },
  {
   "cell_type": "code",
   "execution_count": 60,
   "id": "d56c88cd",
   "metadata": {},
   "outputs": [
    {
     "data": {
      "text/plain": [
       "['Python-checkpoint.ipynb',\n",
       " 'Python.ipynb',\n",
       " 'S4 - String and List Operations.ipynb',\n",
       " 'S5 - Tuple, Set, Dictionary.ipynb',\n",
       " 'S6 - For loop applied on Lists, string.ipynb',\n",
       " 'S7 - For loop.ipynb',\n",
       " 'S8 - Programs Practice on Loops, Dictionary and others.ipynb',\n",
       " 'S9 - Functions HW 23rd Dec 2021.ipynb',\n",
       " 'S9 - Functions.ipynb',\n",
       " 'S9 - HW Functions 23rd Dec 2021.ipynb']"
      ]
     },
     "execution_count": 60,
     "metadata": {},
     "output_type": "execute_result"
    }
   ],
   "source": [
    "path = 'C:\\\\Users\\\\test1\\Documents\\Subbu\\Learnings\\Data Science\\Python\\Jupyter Notes'\n",
    "listFiles(path)"
   ]
  },
  {
   "cell_type": "code",
   "execution_count": 87,
   "id": "557d41a5",
   "metadata": {},
   "outputs": [],
   "source": [
    "# Question 7\n",
    "# Another approach to list the files present in a directory\n",
    "def listFilesA(path):\n",
    "    '''This function will print the path, folders in the path passed in and return the list of the files present in a \n",
    "    directory passed'''\n",
    "    from os import walk\n",
    "    f1 = []\n",
    "    dirp = []\n",
    "    dirs = []\n",
    "    for (dirpath, dirnames, files) in walk(path):\n",
    "        f1.append(files)\n",
    "        dirp.append(dirpath)\n",
    "        dirs.append(dirnames)\n",
    "    else:\n",
    "        print(dirp)\n",
    "        print(dirs)\n",
    "        return f1"
   ]
  },
  {
   "cell_type": "code",
   "execution_count": 88,
   "id": "b1f0cfe6",
   "metadata": {},
   "outputs": [
    {
     "name": "stdout",
     "output_type": "stream",
     "text": [
      "['C:\\\\Users\\\\test1\\\\Documents\\\\Subbu\\\\Learnings\\\\Data Science\\\\Python\\\\Jupyter Notes', 'C:\\\\Users\\\\test1\\\\Documents\\\\Subbu\\\\Learnings\\\\Data Science\\\\Python\\\\Jupyter Notes\\\\New folder']\n",
      "[['New folder'], []]\n"
     ]
    },
    {
     "data": {
      "text/plain": [
       "[['Python-checkpoint.ipynb',\n",
       "  'Python.ipynb',\n",
       "  'S4 - String and List Operations.ipynb',\n",
       "  'S5 - Tuple, Set, Dictionary.ipynb',\n",
       "  'S6 - For loop applied on Lists, string.ipynb',\n",
       "  'S7 - For loop.ipynb',\n",
       "  'S8 - Programs Practice on Loops, Dictionary and others.ipynb',\n",
       "  'S9 - Functions HW 23rd Dec 2021.ipynb',\n",
       "  'S9 - Functions.ipynb',\n",
       "  'S9 - HW Functions 23rd Dec 2021.ipynb'],\n",
       " []]"
      ]
     },
     "execution_count": 88,
     "metadata": {},
     "output_type": "execute_result"
    }
   ],
   "source": [
    "path = 'C:\\\\Users\\\\test1\\Documents\\Subbu\\Learnings\\Data Science\\Python\\Jupyter Notes'\n",
    "listFilesA(path)"
   ]
  },
  {
   "cell_type": "code",
   "execution_count": 1,
   "id": "08d33aab",
   "metadata": {},
   "outputs": [],
   "source": [
    "# Question 8\n",
    "# Function to print our system configuration\n",
    "def getSysConfig():\n",
    "    import subprocess\n",
    "    sysinfo = subprocess.check_output(['systeminfo']).decode('utf-8').split\n",
    "    new = []\n",
    "    for item in sysinfo:\n",
    "        new.append(str(item.split('\\r')[-1]))\n",
    "    for i in new:\n",
    "        print(i[2:-2])\n",
    "    print(sysinfo)\n",
    "    print(new)"
   ]
  },
  {
   "cell_type": "code",
   "execution_count": 2,
   "id": "072824f3",
   "metadata": {},
   "outputs": [
    {
     "ename": "TypeError",
     "evalue": "'builtin_function_or_method' object is not iterable",
     "output_type": "error",
     "traceback": [
      "\u001b[1;31m---------------------------------------------------------------------------\u001b[0m",
      "\u001b[1;31mTypeError\u001b[0m                                 Traceback (most recent call last)",
      "\u001b[1;32m~\\AppData\\Local\\Temp/ipykernel_17360/1052480271.py\u001b[0m in \u001b[0;36m<module>\u001b[1;34m\u001b[0m\n\u001b[1;32m----> 1\u001b[1;33m \u001b[0mgetSysConfig\u001b[0m\u001b[1;33m(\u001b[0m\u001b[1;33m)\u001b[0m\u001b[1;33m\u001b[0m\u001b[1;33m\u001b[0m\u001b[0m\n\u001b[0m",
      "\u001b[1;32m~\\AppData\\Local\\Temp/ipykernel_17360/3953449352.py\u001b[0m in \u001b[0;36mgetSysConfig\u001b[1;34m()\u001b[0m\n\u001b[0;32m      5\u001b[0m     \u001b[0msysinfo\u001b[0m \u001b[1;33m=\u001b[0m \u001b[0msubprocess\u001b[0m\u001b[1;33m.\u001b[0m\u001b[0mcheck_output\u001b[0m\u001b[1;33m(\u001b[0m\u001b[1;33m[\u001b[0m\u001b[1;34m'systeminfo'\u001b[0m\u001b[1;33m]\u001b[0m\u001b[1;33m)\u001b[0m\u001b[1;33m.\u001b[0m\u001b[0mdecode\u001b[0m\u001b[1;33m(\u001b[0m\u001b[1;34m'utf-8'\u001b[0m\u001b[1;33m)\u001b[0m\u001b[1;33m.\u001b[0m\u001b[0msplit\u001b[0m\u001b[1;33m\u001b[0m\u001b[1;33m\u001b[0m\u001b[0m\n\u001b[0;32m      6\u001b[0m     \u001b[0mnew\u001b[0m \u001b[1;33m=\u001b[0m \u001b[1;33m[\u001b[0m\u001b[1;33m]\u001b[0m\u001b[1;33m\u001b[0m\u001b[1;33m\u001b[0m\u001b[0m\n\u001b[1;32m----> 7\u001b[1;33m     \u001b[1;32mfor\u001b[0m \u001b[0mitem\u001b[0m \u001b[1;32min\u001b[0m \u001b[0msysinfo\u001b[0m\u001b[1;33m:\u001b[0m\u001b[1;33m\u001b[0m\u001b[1;33m\u001b[0m\u001b[0m\n\u001b[0m\u001b[0;32m      8\u001b[0m         \u001b[0mnew\u001b[0m\u001b[1;33m.\u001b[0m\u001b[0mappend\u001b[0m\u001b[1;33m(\u001b[0m\u001b[0mstr\u001b[0m\u001b[1;33m(\u001b[0m\u001b[0mitem\u001b[0m\u001b[1;33m.\u001b[0m\u001b[0msplit\u001b[0m\u001b[1;33m(\u001b[0m\u001b[1;34m'\\r'\u001b[0m\u001b[1;33m)\u001b[0m\u001b[1;33m[\u001b[0m\u001b[1;33m-\u001b[0m\u001b[1;36m1\u001b[0m\u001b[1;33m]\u001b[0m\u001b[1;33m)\u001b[0m\u001b[1;33m)\u001b[0m\u001b[1;33m\u001b[0m\u001b[1;33m\u001b[0m\u001b[0m\n\u001b[0;32m      9\u001b[0m     \u001b[1;32mfor\u001b[0m \u001b[0mi\u001b[0m \u001b[1;32min\u001b[0m \u001b[0mnew\u001b[0m\u001b[1;33m:\u001b[0m\u001b[1;33m\u001b[0m\u001b[1;33m\u001b[0m\u001b[0m\n",
      "\u001b[1;31mTypeError\u001b[0m: 'builtin_function_or_method' object is not iterable"
     ]
    }
   ],
   "source": [
    "getSysConfig()"
   ]
  },
  {
   "cell_type": "code",
   "execution_count": 3,
   "id": "4fc5a701",
   "metadata": {},
   "outputs": [],
   "source": [
    "# Question 8\n",
    "# Function to print our system configuration\n",
    "def getSysConfig1():\n",
    "    '''This fucntion will print the configuration of the system'''\n",
    "    import platform\n",
    "    my_system = platform.uname()\n",
    "    print(f\"System: {my_system.system}\")\n",
    "    print(f\"Node Name: {my_system.node}\")\n",
    "    print(f\"Release: {my_system.release}\")\n",
    "    print(f\"Version: {my_system.version}\")\n",
    "    print(f\"Machine: {my_system.machine}\")\n",
    "    print(f\"Processor: {my_system.processor}\")"
   ]
  },
  {
   "cell_type": "code",
   "execution_count": 4,
   "id": "34e54f46",
   "metadata": {},
   "outputs": [
    {
     "name": "stdout",
     "output_type": "stream",
     "text": [
      "System: Windows\n",
      "Node Name: NB-SUBRAMANYAM\n",
      "Release: 10\n",
      "Version: 10.0.19043\n",
      "Machine: AMD64\n",
      "Processor: Intel64 Family 6 Model 165 Stepping 2, GenuineIntel\n"
     ]
    }
   ],
   "source": [
    "getSysConfig1()"
   ]
  },
  {
   "cell_type": "code",
   "execution_count": 145,
   "id": "e05dddc4",
   "metadata": {},
   "outputs": [],
   "source": [
    "# Question 9\n",
    "# Function to return current date and time\n",
    "def dateTime():\n",
    "    '''This function will print various formats of date and time'''\n",
    "    from datetime import datetime\n",
    "    from datetime import date\n",
    "    now = datetime.now()\n",
    "    print('the current date and time is-', now)\n",
    "    print('the date in DD/MM/YY and Time in HH:MM:SS is-', now.strftime('%d/%m/%y %H:%M:%S'))\n",
    "    print('The current date is-', date.today())\n",
    "    print('The date in Month DD, YY format is-', now.strftime(\"%B %d, %y\"))\n",
    "    print('To format Week, month, date, time, year-', now.strftime('%c'))"
   ]
  },
  {
   "cell_type": "code",
   "execution_count": 144,
   "id": "09d99e79",
   "metadata": {},
   "outputs": [
    {
     "name": "stdout",
     "output_type": "stream",
     "text": [
      "the current date and time is- 2021-12-31 10:49:19.684655\n",
      "the date in DD/MM/YY and Time in HH:MM:SS is- 31/12/21 10:49:19\n",
      "The current date is- 2021-12-31\n",
      "The date in Month DD, YY format is- December 31, 21\n",
      "To format Week, month, date, time, year- Fri Dec 31 10:49:19 2021\n"
     ]
    }
   ],
   "source": [
    "dateTime()"
   ]
  },
  {
   "cell_type": "code",
   "execution_count": 159,
   "id": "54bc80b8",
   "metadata": {},
   "outputs": [],
   "source": [
    "# Question 10\n",
    "# Function to read a image file and open and show it to us\n",
    "def showImage1(path):\n",
    "    from openCV import cv2\n",
    "    # read RGB image and store in img\n",
    "    img = cv2.imread(path)\n",
    "    # output img with window name as 'image'\n",
    "    cv2.imshow('image', img)\n",
    "    # Maintain output window until user presses a key\n",
    "    cv2.waitkey(0)\n",
    "    # Destoying present windows on screen\n",
    "    cv2.destroyAllWindows()"
   ]
  },
  {
   "cell_type": "markdown",
   "id": "3b4ffb32",
   "metadata": {},
   "source": [
    "The above code uses CV2 module from OpenCV (Open Source Computer Vision) library which is not present in our setup. So it is not getting executed. So we have developed another approach using matplotlib. OpenCV library will have several operations to manage images and videos."
   ]
  },
  {
   "cell_type": "code",
   "execution_count": 154,
   "id": "64d4d9f0",
   "metadata": {},
   "outputs": [],
   "source": [
    "# Question 10\n",
    "# Function to read a image file and open and show it to us\n",
    "def showImage(path):\n",
    "    import matplotlib.image as mping\n",
    "    import matplotlib.pyplot as plt\n",
    "    # Read images\n",
    "    img = mping.imread(path)\n",
    "    # Output images\n",
    "    plt.imshow(img)"
   ]
  },
  {
   "cell_type": "code",
   "execution_count": 155,
   "id": "7f885c40",
   "metadata": {},
   "outputs": [
    {
     "data": {
      "image/png": "[encoded data removed]",
      "text/plain": [
       "<Figure size 432x288 with 1 Axes>"
      ]
     },
     "metadata": {
      "needs_background": "light"
     },
     "output_type": "display_data"
    }
   ],
   "source": [
    "path = 'C:\\\\Users\\\\test1\\Documents\\Subbu\\Learnings\\Data Science\\Python\\Material\\Capture.png'\n",
    "showImage(path)"
   ]
  },
  {
   "cell_type": "code",
   "execution_count": 160,
   "id": "e6063c7d",
   "metadata": {
    "scrolled": false
   },
   "outputs": [
    {
     "ename": "ModuleNotFoundError",
     "evalue": "No module named 'openCV'",
     "output_type": "error",
     "traceback": [
      "\u001b[1;31m---------------------------------------------------------------------------\u001b[0m",
      "\u001b[1;31mModuleNotFoundError\u001b[0m                       Traceback (most recent call last)",
      "\u001b[1;32m~\\AppData\\Local\\Temp/ipykernel_9540/382863623.py\u001b[0m in \u001b[0;36m<module>\u001b[1;34m\u001b[0m\n\u001b[0;32m      1\u001b[0m \u001b[0mpath\u001b[0m \u001b[1;33m=\u001b[0m \u001b[1;34m'C:\\\\Users\\\\test1\\Documents\\Subbu\\Learnings\\Data Science\\Python\\Material\\Capture.png'\u001b[0m\u001b[1;33m\u001b[0m\u001b[1;33m\u001b[0m\u001b[0m\n\u001b[1;32m----> 2\u001b[1;33m \u001b[0mshowImage1\u001b[0m\u001b[1;33m(\u001b[0m\u001b[0mpath\u001b[0m\u001b[1;33m)\u001b[0m\u001b[1;33m\u001b[0m\u001b[1;33m\u001b[0m\u001b[0m\n\u001b[0m",
      "\u001b[1;32m~\\AppData\\Local\\Temp/ipykernel_9540/246995320.py\u001b[0m in \u001b[0;36mshowImage1\u001b[1;34m(path)\u001b[0m\n\u001b[0;32m      2\u001b[0m \u001b[1;31m# Function to read a image file and open and show it to us\u001b[0m\u001b[1;33m\u001b[0m\u001b[1;33m\u001b[0m\u001b[0m\n\u001b[0;32m      3\u001b[0m \u001b[1;32mdef\u001b[0m \u001b[0mshowImage1\u001b[0m\u001b[1;33m(\u001b[0m\u001b[0mpath\u001b[0m\u001b[1;33m)\u001b[0m\u001b[1;33m:\u001b[0m\u001b[1;33m\u001b[0m\u001b[1;33m\u001b[0m\u001b[0m\n\u001b[1;32m----> 4\u001b[1;33m     \u001b[1;32mfrom\u001b[0m \u001b[0mopenCV\u001b[0m \u001b[1;32mimport\u001b[0m \u001b[0mcv2\u001b[0m\u001b[1;33m\u001b[0m\u001b[1;33m\u001b[0m\u001b[0m\n\u001b[0m\u001b[0;32m      5\u001b[0m     \u001b[1;31m# read RGB image and store in img\u001b[0m\u001b[1;33m\u001b[0m\u001b[1;33m\u001b[0m\u001b[0m\n\u001b[0;32m      6\u001b[0m     \u001b[0mimg\u001b[0m \u001b[1;33m=\u001b[0m \u001b[0mcv2\u001b[0m\u001b[1;33m.\u001b[0m\u001b[0mimread\u001b[0m\u001b[1;33m(\u001b[0m\u001b[0mpath\u001b[0m\u001b[1;33m)\u001b[0m\u001b[1;33m\u001b[0m\u001b[1;33m\u001b[0m\u001b[0m\n",
      "\u001b[1;31mModuleNotFoundError\u001b[0m: No module named 'openCV'"
     ]
    }
   ],
   "source": [
    "path = 'C:\\\\Users\\\\test1\\Documents\\Subbu\\Learnings\\Data Science\\Python\\Material\\Capture.png'\n",
    "showImage1(path)"
   ]
  },
  {
   "cell_type": "code",
   "execution_count": 7,
   "id": "839265a7",
   "metadata": {},
   "outputs": [],
   "source": [
    "# Question 11\n",
    "# Function to read video file and play it\n",
    "def readVideo(path, res):\n",
    "    import cv2\n",
    "    args = [\"ffmpeg\", '-i', path, '-f', 'image2pipe', '-pix_fmt', 'rgb24', '-vcodec', 'rawvideo', '-',]\n",
    "    pipe = subprocess.Popen(args, stdout=subprocess.PIPE, stderr=subprocess.DEVNULL, bufsize=res[0] * res[1] * 3,)\n",
    "    while pipe.poll() is None:\n",
    "        frame = pipe.stdout.read(res[0] * res[1] * 3)\n",
    "        if len(frame) > 0:\n",
    "            array = np.frombuffer(frame, dtype='uint8')\n",
    "            yield array.reshape((res[1], res[0], 3))"
   ]
  },
  {
   "cell_type": "code",
   "execution_count": 8,
   "id": "31547b39",
   "metadata": {},
   "outputs": [
    {
     "data": {
      "text/plain": [
       "<generator object readVideo at 0x000001A60419B190>"
      ]
     },
     "execution_count": 8,
     "metadata": {},
     "output_type": "execute_result"
    }
   ],
   "source": [
    "path = 'C:\\\\Users\\\\test1\\Documents\\Subbu\\Learnings\\Data Science\\Python\\Material\\MMS KT - AMS Part 2.mp4'\n",
    "readVideo(path, [])"
   ]
  },
  {
   "cell_type": "code",
   "execution_count": 9,
   "id": "0d5c5b5e",
   "metadata": {},
   "outputs": [
    {
     "ename": "ModuleNotFoundError",
     "evalue": "No module named 'cv2'",
     "output_type": "error",
     "traceback": [
      "\u001b[1;31m---------------------------------------------------------------------------\u001b[0m",
      "\u001b[1;31mModuleNotFoundError\u001b[0m                       Traceback (most recent call last)",
      "\u001b[1;32m~\\AppData\\Local\\Temp/ipykernel_17360/2055971239.py\u001b[0m in \u001b[0;36m<module>\u001b[1;34m\u001b[0m\n\u001b[1;32m----> 1\u001b[1;33m \u001b[1;32mimport\u001b[0m \u001b[0mcv2\u001b[0m\u001b[1;33m\u001b[0m\u001b[1;33m\u001b[0m\u001b[0m\n\u001b[0m\u001b[0;32m      2\u001b[0m \u001b[1;33m\u001b[0m\u001b[0m\n\u001b[0;32m      3\u001b[0m \u001b[0mcap\u001b[0m \u001b[1;33m=\u001b[0m \u001b[0mcv2\u001b[0m\u001b[1;33m.\u001b[0m\u001b[0mVideoCapture\u001b[0m\u001b[1;33m(\u001b[0m\u001b[1;34m\"C:\\\\Users\\\\test1\\Documents\\Subbu\\Learnings\\Data Science\\Python\\Material\\MMS KT - AMS Part 2.mp4\"\u001b[0m\u001b[1;33m)\u001b[0m\u001b[1;33m\u001b[0m\u001b[1;33m\u001b[0m\u001b[0m\n\u001b[0;32m      4\u001b[0m \u001b[0mret\u001b[0m\u001b[1;33m,\u001b[0m \u001b[0mframe\u001b[0m \u001b[1;33m=\u001b[0m \u001b[0mcap\u001b[0m\u001b[1;33m.\u001b[0m\u001b[0mread\u001b[0m\u001b[1;33m(\u001b[0m\u001b[1;33m)\u001b[0m\u001b[1;33m\u001b[0m\u001b[1;33m\u001b[0m\u001b[0m\n\u001b[0;32m      5\u001b[0m \u001b[1;32mwhile\u001b[0m\u001b[1;33m(\u001b[0m\u001b[1;36m1\u001b[0m\u001b[1;33m)\u001b[0m\u001b[1;33m:\u001b[0m\u001b[1;33m\u001b[0m\u001b[1;33m\u001b[0m\u001b[0m\n",
      "\u001b[1;31mModuleNotFoundError\u001b[0m: No module named 'cv2'"
     ]
    }
   ],
   "source": [
    "import cv2\n",
    "\n",
    "cap = cv2.VideoCapture(\"C:\\\\Users\\\\test1\\Documents\\Subbu\\Learnings\\Data Science\\Python\\Material\\MMS KT - AMS Part 2.mp4\")\n",
    "ret, frame = cap.read()\n",
    "while(1):\n",
    "   ret, frame = cap.read()\n",
    "   cv2.imshow('frame',frame)\n",
    "   if cv2.waitKey(1) & 0xFF == ord('q') or ret==False :\n",
    "       cap.release()\n",
    "       cv2.destroyAllWindows()\n",
    "       break\n",
    "   cv2.imshow('frame',frame)"
   ]
  },
  {
   "cell_type": "code",
   "execution_count": 162,
   "id": "6bce36d1",
   "metadata": {},
   "outputs": [
    {
     "ename": "ModuleNotFoundError",
     "evalue": "No module named 'cv2'",
     "output_type": "error",
     "traceback": [
      "\u001b[1;31m---------------------------------------------------------------------------\u001b[0m",
      "\u001b[1;31mModuleNotFoundError\u001b[0m                       Traceback (most recent call last)",
      "\u001b[1;32m~\\AppData\\Local\\Temp/ipykernel_9540/3168981059.py\u001b[0m in \u001b[0;36m<module>\u001b[1;34m\u001b[0m\n\u001b[0;32m      1\u001b[0m \u001b[1;31m# importing libraries\u001b[0m\u001b[1;33m\u001b[0m\u001b[1;33m\u001b[0m\u001b[0m\n\u001b[1;32m----> 2\u001b[1;33m \u001b[1;32mimport\u001b[0m \u001b[0mcv2\u001b[0m\u001b[1;33m\u001b[0m\u001b[1;33m\u001b[0m\u001b[0m\n\u001b[0m\u001b[0;32m      3\u001b[0m \u001b[1;32mimport\u001b[0m \u001b[0mnumpy\u001b[0m \u001b[1;32mas\u001b[0m \u001b[0mnp\u001b[0m\u001b[1;33m\u001b[0m\u001b[1;33m\u001b[0m\u001b[0m\n\u001b[0;32m      4\u001b[0m \u001b[1;33m\u001b[0m\u001b[0m\n\u001b[0;32m      5\u001b[0m \u001b[1;31m# Create a VideoCapture object and read from input file\u001b[0m\u001b[1;33m\u001b[0m\u001b[1;33m\u001b[0m\u001b[0m\n",
      "\u001b[1;31mModuleNotFoundError\u001b[0m: No module named 'cv2'"
     ]
    }
   ],
   "source": [
    "# importing libraries\n",
    "import cv2\n",
    "import numpy as np\n",
    "   \n",
    "# Create a VideoCapture object and read from input file\n",
    "cap = cv2.VideoCapture('C:\\\\Users\\\\test1\\Documents\\Subbu\\Learnings\\Data Science\\Python\\Material\\MMS KT - AMS Part 2.mp4')\n",
    "   \n",
    "# Check if camera opened successfully\n",
    "if (cap.isOpened()== False): \n",
    "  print(\"Error opening video  file\")\n",
    "   \n",
    "# Read until video is completed\n",
    "while(cap.isOpened()):\n",
    "      \n",
    "  # Capture frame-by-frame\n",
    "  ret, frame = cap.read()\n",
    "  if ret == True:\n",
    "   \n",
    "    # Display the resulting frame\n",
    "    cv2.imshow('Frame', frame)\n",
    "   \n",
    "    # Press Q on keyboard to  exit\n",
    "    if cv2.waitKey(25) & 0xFF == ord('q'):\n",
    "      break\n",
    "   \n",
    "  # Break the loop\n",
    "  else: \n",
    "    break\n",
    "   \n",
    "# When everything done, release \n",
    "# the video capture object\n",
    "cap.release()"
   ]
  },
  {
   "cell_type": "code",
   "execution_count": 3,
   "id": "5448bae4",
   "metadata": {},
   "outputs": [],
   "source": [
    "# Question 12\n",
    "# Function to move a file from one directory to another directory\n",
    "def movFile(srcpath,despath):\n",
    "    '''This function will move a file from one directory to another directory'''\n",
    "    import os\n",
    "    import shutil\n",
    "    # os.replace(srcpath,despath)\n",
    "    shutil.move(srcpath,despath)"
   ]
  },
  {
   "cell_type": "code",
   "execution_count": 13,
   "id": "14a3cbc8",
   "metadata": {},
   "outputs": [],
   "source": [
    "srcpath = r\"C:\\\\Users\\\\test1\\Documents\\Subbu\\Learnings\\test.txt\"\n",
    "despath = r\"C:\\\\Users\\\\test1\\Documents\\Subbu\\Learnings\\Data Science\\test.txt\"\n",
    "movFile(srcpath,despath)"
   ]
  },
  {
   "cell_type": "markdown",
   "id": "136d3a86",
   "metadata": {},
   "source": [
    "Both os.replace and shutil.move will work. As per my analysis, shutil.move will be able to move from one drive to another drive as well.r\"\" means it will take as a raw string."
   ]
  },
  {
   "cell_type": "code",
   "execution_count": 2,
   "id": "490e971f",
   "metadata": {},
   "outputs": [],
   "source": [
    "# Question 13\n",
    "# Function which will be able to shut down the system\n",
    "def shutdown():\n",
    "    import os\n",
    "    shutdown = input('Do you want to shut down the system? (y/n)')\n",
    "    if shutdown == 'n':\n",
    "        next\n",
    "    else:\n",
    "        os.system('shutdown /s /t 1')"
   ]
  },
  {
   "cell_type": "code",
   "execution_count": 3,
   "id": "c5144a79",
   "metadata": {},
   "outputs": [
    {
     "name": "stdout",
     "output_type": "stream",
     "text": [
      "Do you want to shut down the system? (y/n)n\n"
     ]
    }
   ],
   "source": [
    "shutdown()"
   ]
  },
  {
   "cell_type": "code",
   "execution_count": 29,
   "id": "727071c9",
   "metadata": {},
   "outputs": [],
   "source": [
    "# Question 14\n",
    "# Function to access gmail\n",
    "def accessMail():\n",
    "    '''This function logins to gmail and access the inbox'''\n",
    "    import imaplib\n",
    "    email_org = '@gmail.com'\n",
    "    from_mail = 'subbus.m' + email_org\n",
    "    from_pwd = 'kjoztfclyapfcarc'\n",
    "    smtp_server = 'imap.gmail.com'\n",
    "    smtp_port = 993\n",
    "    mail = imaplib.IMAP4_SSL(smtp_server)\n",
    "    mail.login(from_mail, from_pwd)\n",
    "    mail.select('inbox')"
   ]
  },
  {
   "cell_type": "code",
   "execution_count": 30,
   "id": "64e8a799",
   "metadata": {},
   "outputs": [],
   "source": [
    "accessMail()"
   ]
  },
  {
   "cell_type": "code",
   "execution_count": 10,
   "id": "b1ed6cbd",
   "metadata": {},
   "outputs": [],
   "source": [
    "# Question 15\n",
    "# Function to send email. To address, subject, text will be passed as parameters\n",
    "# This is another way of accessing mail\n",
    "def sendEmail(receiver_email, message):\n",
    "    import smtplib, ssl\n",
    "    sender_email = 'subbus.m@gmail.com'\n",
    "    port = 465\n",
    "    password = input('Please type your password and press Enter: ')\n",
    "    # Create a secure SSL context\n",
    "    context = ssl.create_default_context()\n",
    "    with smtplib.SMTP_SSL('smtp.gmail.com', port, context=context) as server:\n",
    "        server.login(sender_email, password)\n",
    "        # Send Email here\n",
    "        server.sendmail(sender_email, receiver_email, message)        "
   ]
  },
  {
   "cell_type": "code",
   "execution_count": 11,
   "id": "be0f7820",
   "metadata": {},
   "outputs": [
    {
     "name": "stdout",
     "output_type": "stream",
     "text": [
      "Please type your password and press Enter: kjoztfclyapfcarc\n"
     ]
    }
   ],
   "source": [
    "receiver_email = 'anusha.asci@gmail.com'\n",
    "message = '''Subject: Hi \\n \\n \\n \n",
    "\n",
    "This is a test mail from Python'''\n",
    "sendEmail(receiver_email, message)"
   ]
  },
  {
   "cell_type": "code",
   "execution_count": 23,
   "id": "0a902923",
   "metadata": {},
   "outputs": [
    {
     "ename": "ModuleNotFoundError",
     "evalue": "No module named 'pypdf'",
     "output_type": "error",
     "traceback": [
      "\u001b[1;31m---------------------------------------------------------------------------\u001b[0m",
      "\u001b[1;31mModuleNotFoundError\u001b[0m                       Traceback (most recent call last)",
      "\u001b[1;32m~\\AppData\\Local\\Temp/ipykernel_7544/668143078.py\u001b[0m in \u001b[0;36m<module>\u001b[1;34m\u001b[0m\n\u001b[0;32m      1\u001b[0m \u001b[1;31m# Question 16\u001b[0m\u001b[1;33m\u001b[0m\u001b[1;33m\u001b[0m\u001b[0m\n\u001b[0;32m      2\u001b[0m \u001b[1;31m# Funtion to read a PDF file and display the content\u001b[0m\u001b[1;33m\u001b[0m\u001b[1;33m\u001b[0m\u001b[0m\n\u001b[1;32m----> 3\u001b[1;33m \u001b[1;32mimport\u001b[0m \u001b[0mpypdf\u001b[0m\u001b[1;33m\u001b[0m\u001b[1;33m\u001b[0m\u001b[0m\n\u001b[0m",
      "\u001b[1;31mModuleNotFoundError\u001b[0m: No module named 'pypdf'"
     ]
    }
   ],
   "source": [
    "# Question 16\n",
    "# Funtion to read a PDF file and display the content\n",
    "import pypdf"
   ]
  },
  {
   "cell_type": "code",
   "execution_count": 6,
   "id": "352d2d07",
   "metadata": {},
   "outputs": [
    {
     "ename": "ModuleNotFoundError",
     "evalue": "No module named 'docx'",
     "output_type": "error",
     "traceback": [
      "\u001b[1;31m---------------------------------------------------------------------------\u001b[0m",
      "\u001b[1;31mModuleNotFoundError\u001b[0m                       Traceback (most recent call last)",
      "\u001b[1;32m~\\AppData\\Local\\Temp/ipykernel_20148/767237836.py\u001b[0m in \u001b[0;36m<module>\u001b[1;34m\u001b[0m\n\u001b[0;32m      1\u001b[0m \u001b[1;31m# Question 17\u001b[0m\u001b[1;33m\u001b[0m\u001b[1;33m\u001b[0m\u001b[0m\n\u001b[0;32m      2\u001b[0m \u001b[1;31m# Function to read a word file\u001b[0m\u001b[1;33m\u001b[0m\u001b[1;33m\u001b[0m\u001b[0m\n\u001b[1;32m----> 3\u001b[1;33m \u001b[1;32mimport\u001b[0m \u001b[0mdocx\u001b[0m\u001b[1;33m\u001b[0m\u001b[1;33m\u001b[0m\u001b[0m\n\u001b[0m",
      "\u001b[1;31mModuleNotFoundError\u001b[0m: No module named 'docx'"
     ]
    }
   ],
   "source": [
    "# Question 17\n",
    "# Function to read a word file\n",
    "import docx"
   ]
  },
  {
   "cell_type": "code",
   "execution_count": 13,
   "id": "32e46f5c",
   "metadata": {},
   "outputs": [],
   "source": [
    "# Question 18\n",
    "# Function to filter only word files in a directory passed in\n",
    "def filterWord(path):\n",
    "    import os\n",
    "    included_ext = ['doc','docx']\n",
    "    files = [fn for fn in os.listdir(path) if any(fn.endswith(ext) for ext in included_ext)]\n",
    "    return files"
   ]
  },
  {
   "cell_type": "code",
   "execution_count": 14,
   "id": "ec9d6fc3",
   "metadata": {},
   "outputs": [
    {
     "data": {
      "text/plain": [
       "['AMS Process_Back Up.docx', 'Menu CTS45.docx']"
      ]
     },
     "execution_count": 14,
     "metadata": {},
     "output_type": "execute_result"
    }
   ],
   "source": [
    "path = 'C:\\\\Users\\\\test1\\Documents\\Subbu\\CTS\\Daily Tasks'\n",
    "filterWord(path)"
   ]
  },
  {
   "cell_type": "code",
   "execution_count": 18,
   "id": "18358a63",
   "metadata": {},
   "outputs": [],
   "source": [
    "# Question 19\n",
    "# Function to print IP address of the system by accessing IPCONFIG.\n",
    "def getIPAddr():\n",
    "    import socket\n",
    "    hostname = socket.gethostname()\n",
    "    ipaddr = socket.gethostbyname(hostname)\n",
    "    return hostname, ipaddr"
   ]
  },
  {
   "cell_type": "code",
   "execution_count": 19,
   "id": "0c485741",
   "metadata": {},
   "outputs": [
    {
     "data": {
      "text/plain": [
       "('NB-SUBRAMANYAM', '192.168.0.4')"
      ]
     },
     "execution_count": 19,
     "metadata": {},
     "output_type": "execute_result"
    }
   ],
   "source": [
    "getIPAddr()"
   ]
  },
  {
   "cell_type": "code",
   "execution_count": 2,
   "id": "e2663a3d",
   "metadata": {},
   "outputs": [],
   "source": [
    "# Question 20\n",
    "# Function to append 2 PDF files into single PDF file.\n"
   ]
  },
  {
   "cell_type": "code",
   "execution_count": null,
   "id": "91c78229",
   "metadata": {},
   "outputs": [],
   "source": []
  },
  {
   "cell_type": "code",
   "execution_count": null,
   "id": "5b2f7ddb",
   "metadata": {},
   "outputs": [],
   "source": []
  }
 ],
 "metadata": {
  "kernelspec": {
   "display_name": "Python 3 (ipykernel)",
   "language": "python",
   "name": "python3"
  },
  "language_info": {
   "codemirror_mode": {
    "name": "ipython",
    "version": 3
   },
   "file_extension": ".py",
   "mimetype": "text/x-python",
   "name": "python",
   "nbconvert_exporter": "python",
   "pygments_lexer": "ipython3",
   "version": "3.9.7"
  }
 },
 "nbformat": 4,
 "nbformat_minor": 5
}

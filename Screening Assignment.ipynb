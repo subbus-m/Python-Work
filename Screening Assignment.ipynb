{
 "cells": [
  {
   "cell_type": "markdown",
   "id": "2281cf69",
   "metadata": {},
   "source": [
    "#### Question 1"
   ]
  },
  {
   "cell_type": "raw",
   "id": "8850f62e",
   "metadata": {},
   "source": [
    "1. Create a function in python to read the text file and replace specific content\n",
    "of the file.\n",
    "\n",
    "File name example.txt will have Origin file content as 'This is a placement assignment' and string Placement should be replaced by screening. \n",
    "\n",
    "Replaced file content will be 'This is a screening assignment'"
   ]
  },
  {
   "cell_type": "code",
   "execution_count": 23,
   "id": "94deee41",
   "metadata": {},
   "outputs": [],
   "source": [
    "def replacetxt(path):\n",
    "    import os\n",
    "    os.chdir(path)\n",
    "    f = open('example.txt', 'rt')\n",
    "    data = f.read()\n",
    "    data = data.replace('placement', 'screening')\n",
    "    f.close()\n",
    "    f = open('example.txt', 'wt')\n",
    "    f.write(data)\n",
    "    f.close()"
   ]
  },
  {
   "cell_type": "code",
   "execution_count": 24,
   "id": "40b7950c",
   "metadata": {},
   "outputs": [],
   "source": [
    "replacetxt('C:\\\\Users\\\\test1\\Documents\\Subbu\\Learnings\\Data Science\\Interview\\Screening')"
   ]
  },
  {
   "cell_type": "markdown",
   "id": "91b48e5b",
   "metadata": {},
   "source": [
    "#### Question 2"
   ]
  },
  {
   "cell_type": "raw",
   "id": "7ade4451",
   "metadata": {},
   "source": [
    "2. Demonstrate use of abstract class, multiple inheritance and decorator in\n",
    "python using examples."
   ]
  },
  {
   "cell_type": "markdown",
   "id": "868e1fa4",
   "metadata": {},
   "source": [
    "An Abstract class allows us to create a set of methods that must be created within any child classes built from astract class.\n",
    "A class which is having abstract methods is called abstract class. Abstract methods are the methods which does not have any implementation in it. When we are designing a large project, the skeleton with abstract methods can be built and each method can be distributed with team and can be implemented with the code written by each individual. \n",
    "\n",
    "These abstract methods are decorated by '@abstractmethod', so that anyone can understand the meaning of it.\n",
    "\n",
    "Anything starting with '@' symbol is called decorator. Also that particular function is called first before going into another function.\n",
    "\n",
    "@drag\n",
    "def deco():\n",
    "\n",
    "For the above syntax, when we call deco() function, first drag function will be called and then comes to deco."
   ]
  },
  {
   "cell_type": "markdown",
   "id": "da50673a",
   "metadata": {},
   "source": [
    "Below example demonstrates what is abstract class."
   ]
  },
  {
   "cell_type": "code",
   "execution_count": 25,
   "id": "f3935921",
   "metadata": {},
   "outputs": [],
   "source": [
    "from abc import ABC, abstractmethod\n",
    "class Polygon(ABC):\n",
    "    @abstractmethod\n",
    "    def sides(self):\n",
    "        pass\n",
    "class Triangle(Polygon):\n",
    "    def sides(self):\n",
    "        print('Triangle has 3 sides')\n",
    "class Pentagon(Polygon):\n",
    "    def sides(self):\n",
    "        print('Pentagon has 5 sides')\n",
    "class Hexagon(Polygon):\n",
    "    def sides(self):\n",
    "        print('Hexagon has 6 sides')"
   ]
  },
  {
   "cell_type": "code",
   "execution_count": 27,
   "id": "5de3bc9a",
   "metadata": {},
   "outputs": [
    {
     "name": "stdout",
     "output_type": "stream",
     "text": [
      "Triangle has 3 sides\n"
     ]
    }
   ],
   "source": [
    "t = Triangle()\n",
    "t.sides()"
   ]
  },
  {
   "cell_type": "code",
   "execution_count": 28,
   "id": "2ae69fcd",
   "metadata": {},
   "outputs": [
    {
     "name": "stdout",
     "output_type": "stream",
     "text": [
      "Pentagon has 5 sides\n"
     ]
    }
   ],
   "source": [
    "p = Pentagon()\n",
    "p.sides()"
   ]
  },
  {
   "cell_type": "code",
   "execution_count": 29,
   "id": "84789220",
   "metadata": {},
   "outputs": [
    {
     "name": "stdout",
     "output_type": "stream",
     "text": [
      "Hexagon has 6 sides\n"
     ]
    }
   ],
   "source": [
    "h = Hexagon()\n",
    "h.sides()"
   ]
  },
  {
   "cell_type": "markdown",
   "id": "924b75f4",
   "metadata": {},
   "source": [
    "Polygon is an abstract class which is having an abstract method 'sides'. It does not have any implementation in Polygon. It is implemented in different classes differently in it's own way. This is the main use of Abstract Class and methods."
   ]
  },
  {
   "cell_type": "markdown",
   "id": "83f47d22",
   "metadata": {},
   "source": [
    "##### Multiple Inheritance"
   ]
  },
  {
   "cell_type": "markdown",
   "id": "521ff9bf",
   "metadata": {},
   "source": [
    "When a class is derived from more than one class, that is called Multiple inheritance"
   ]
  },
  {
   "cell_type": "code",
   "execution_count": 30,
   "id": "02f7bd53",
   "metadata": {},
   "outputs": [],
   "source": [
    "class A:\n",
    "    def fn(self):\n",
    "        print('In Class A')\n",
    "class B:\n",
    "    def fn1(self):\n",
    "        print('In Class B')\n",
    "class C(A, B):\n",
    "    def fn2(self):\n",
    "        print('In Class C')"
   ]
  },
  {
   "cell_type": "markdown",
   "id": "9d42358c",
   "metadata": {},
   "source": [
    "In the above example, Class C is multiple inheritance since it is derived from Class A and B. The object of C can use any of the functions fn, fn1 and fn2"
   ]
  },
  {
   "cell_type": "code",
   "execution_count": 31,
   "id": "d725bcb5",
   "metadata": {},
   "outputs": [
    {
     "name": "stdout",
     "output_type": "stream",
     "text": [
      "In Class B\n",
      "In Class A\n",
      "In Class C\n"
     ]
    }
   ],
   "source": [
    "ob = C()\n",
    "ob.fn1()\n",
    "ob.fn()\n",
    "ob.fn2()"
   ]
  }
 ],
 "metadata": {
  "kernelspec": {
   "display_name": "Python 3 (ipykernel)",
   "language": "python",
   "name": "python3"
  },
  "language_info": {
   "codemirror_mode": {
    "name": "ipython",
    "version": 3
   },
   "file_extension": ".py",
   "mimetype": "text/x-python",
   "name": "python",
   "nbconvert_exporter": "python",
   "pygments_lexer": "ipython3",
   "version": "3.9.7"
  }
 },
 "nbformat": 4,
 "nbformat_minor": 5
}
